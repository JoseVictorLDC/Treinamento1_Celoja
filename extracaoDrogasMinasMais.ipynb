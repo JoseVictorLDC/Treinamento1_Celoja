{
 "cells": [
  {
   "cell_type": "markdown",
   "metadata": {},
   "source": [
    "# Extração da Drogaria Minas Mais"
   ]
  },
  {
   "cell_type": "code",
   "execution_count": null,
   "metadata": {},
   "outputs": [],
   "source": [
    "import requests\n",
    "from bs4 import BeautifulSoup\n",
    "import os\n",
    "import time\n",
    "import json\n",
    "import pandas as pd"
   ]
  },
  {
   "cell_type": "code",
   "execution_count": null,
   "metadata": {},
   "outputs": [],
   "source": [
    "# Capturando todas as URLs\n",
    "\n",
    "# Função de acessar site\n",
    "all_workers = os.cpu_count()\n",
    "\n",
    "def access_site(url, max_attempts=all_workers):\n",
    "    headers = {'Accept': '*/*', 'User-Agent': 'Mozilla/5.0 (Macintosh; Intel Mac OS X 10_11_5) AppleWebKit/537.36 (KHTML, like Gecko) Chrome/50.0.2661.102 Safari/537.36'}\n",
    "    for retry in range(max_attempts):\n",
    "        try:\n",
    "            response = requests.get(url, headers=headers)\n",
    "            if response.status_code == 200:\n",
    "                return response\n",
    "        except Exception as e:\n",
    "                print(f\"An error occurred while accessing URL: {url}: {e}. Retrying... (Attempt {retry + 1}/{max_attempts})\")\n",
    "                time.sleep(1)\n",
    "\n",
    "# Função captura de todos os nomes de marcas e criação de URLs\n",
    "def getNomeMarcas():\n",
    "    response = access_site(\"https://www.drogariasminasmais.com.br/medicamentos\")\n",
    "    soup = BeautifulSoup(response.text, 'html.parser')\n",
    "    sessaoMarcasGrandes = soup.find('div', class_='vtex-search-result-3-x-filter__container vtex-search-result-3-x-filter__container--responsive-result-content-mz0001 bb b--muted-4 vtex-search-result-3-x-filter__container--brand')\n",
    "    sessaoMarcas = sessaoMarcasGrandes.find('div', class_='vtex-search-result-3-x-filterTemplateOverflow vtex-search-result-3-x-filterTemplateOverflow--responsive-result-content-mz0001 pb5 overflow-y-auto')\n",
    "    marcas = sessaoMarcas.find_all('label', class_='vtex-checkbox__label w-100 c-on-base pointer')\n",
    "    return marcas\n",
    "\n",
    "# Criando uma lista de URLs ainda não bem estruturadas\n",
    "urlSuja = getNomeMarcas()\n",
    "urlLimpa = []\n",
    "\n",
    "# Limpando lista das URLs\n",
    "for i in urlSuja:\n",
    "    # Criando texto separado e minusculo com \"-\"\n",
    "    texto = i.text.lower()\n",
    "    textoNovo = texto.replace(\" \", \"-\")\n",
    "\n",
    "    # Salvando tudo em uma lista\n",
    "    urlLimpa.append(textoNovo)\n",
    "\n",
    "listaUrls = []\n",
    "\n",
    "# Criando todas as URLs\n",
    "for j in urlLimpa:\n",
    "    URL = \"https://www.drogariasminasmais.com.br/medicamentos/\" + j + \"?initialMap=c&initialQuery=medicamentos&map=category-1,brand&page=\"\n",
    "    listaUrls.append(URL)"
   ]
  },
  {
   "cell_type": "code",
   "execution_count": null,
   "metadata": {},
   "outputs": [],
   "source": [
    "# Mudando o número das páginas\n",
    "\n",
    "# Função para encontrar um arquivo JSON secreto dependendo da página e da marca\n",
    "def getJSON(urlInicial, page_number):\n",
    "    url = str(urlInicial) + str(page_number)\n",
    "    requisicao = requests.get(url)\n",
    "    soup = BeautifulSoup(requisicao.text, 'html.parser')\n",
    "    string = soup.find_all('script')[-34].text\n",
    "    return string\n",
    "\n",
    "jsonFinal = getJSON(\"https://www.drogariasminasmais.com.br/medicamentos/hypera?initialMap=c&initialQuery=medicamentos&map=category-1,brand&page=\", 1)"
   ]
  },
  {
   "cell_type": "code",
   "execution_count": null,
   "metadata": {},
   "outputs": [],
   "source": [
    "# Criando o JSON e capturando todos os códigos de produtos\n",
    "jsonFiltrado = jsonFinal[3545215:-8]\n",
    "dados = json.loads(jsonFiltrado)\n",
    "listaProdutos = []\n",
    "listaProdutosCerta = []\n",
    "listaProdutosSuperCerta = []\n",
    "j = 0 \n",
    "\n",
    "for i in dados.keys():\n",
    "    if j % 18 == 0:\n",
    "        listaProdutos.append(i)\n",
    "    j = j + 1\n",
    "    if j == 270:\n",
    "        break\n",
    "\n",
    "for i in listaProdutos:\n",
    "    listaProdutosCerta.append(i.split(\".\")[0])\n",
    "\n",
    "for i in listaProdutosCerta:\n",
    "    listaProdutosSuperCerta.append(i.replace(\"$\", \"\"))"
   ]
  },
  {
   "cell_type": "code",
   "execution_count": null,
   "metadata": {},
   "outputs": [],
   "source": [
    "# Pegando todos os dados dos produtos\n",
    "ean = []\n",
    "sku = []\n",
    "precoComDesconto = []\n",
    "precoSemDesconto = []\n",
    "desconto = []\n",
    "marcas = []\n",
    "\n",
    "for i in listaProdutosSuperCerta:\n",
    "    marcas.append(dados[i][\"brand\"])\n",
    "\n",
    "for i in listaProdutosSuperCerta:\n",
    "    precoComDesconto.append(dados[i][])\n",
    "    precoSemDesconto.append(dados[i][])\n",
    "    desconto.append(dados[i][])\n",
    "\n",
    "for i in listaProdutosSuperCerta:\n",
    "    ean.append(dados[i][])\n",
    "    sku.append(dados[i][])"
   ]
  },
  {
   "cell_type": "code",
   "execution_count": null,
   "metadata": {},
   "outputs": [],
   "source": [
    "# Capturando todos os dados dentro do JSON\n",
    "\n",
    "# Função para encontrar um arquivo JSON secreto dependendo da página e da marca\n",
    "def getJSON(urlInicial, page_number):\n",
    "    url = str(urlInicial) + str(page_number)\n",
    "    requisicao = requests.get(url)\n",
    "    soup = BeautifulSoup(requisicao.text, 'html.parser')\n",
    "    string = soup.find_all('script')[-34].text\n",
    "    print(string)\n",
    "    return string\n",
    "\n",
    "total_pages = 25\n",
    "listaJSON = []\n",
    "\n",
    "# Iteração por páginas de usuários\n",
    "for i in listaUrls: \n",
    "    for page_number in range(1, total_pages + 1):\n",
    "        listaJSON.append(getJSON(i, page_number))"
   ]
  }
 ],
 "metadata": {
  "kernelspec": {
   "display_name": "Python 3",
   "language": "python",
   "name": "python3"
  },
  "language_info": {
   "name": "python",
   "version": "3.10.12"
  }
 },
 "nbformat": 4,
 "nbformat_minor": 2
}
