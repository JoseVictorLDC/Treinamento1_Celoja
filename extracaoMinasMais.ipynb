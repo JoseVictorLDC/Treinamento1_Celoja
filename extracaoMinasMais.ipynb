{
 "cells": [
  {
   "cell_type": "markdown",
   "metadata": {},
   "source": [
    "# Extração da Drogaria Minas Mais"
   ]
  },
  {
   "cell_type": "code",
   "execution_count": 38,
   "metadata": {},
   "outputs": [],
   "source": [
    "# Import do código\n",
    "import requests\n",
    "from bs4 import BeautifulSoup\n",
    "import os\n",
    "from concurrent.futures import ThreadPoolExecutor\n",
    "import time\n",
    "import json\n",
    "import pandas as pd\n",
    "import math"
   ]
  },
  {
   "cell_type": "code",
   "execution_count": 39,
   "metadata": {},
   "outputs": [],
   "source": [
    "# Capturando todas as URLs\n",
    "\n",
    "# Função de acessar site\n",
    "all_workers = os.cpu_count()\n",
    "\n",
    "def access_site(url, max_attempts=all_workers):\n",
    "    headers = {'Accept': '*/*', 'User-Agent': 'Mozilla/5.0 (Macintosh; Intel Mac OS X 10_11_5) AppleWebKit/537.36 (KHTML, like Gecko) Chrome/50.0.2661.102 Safari/537.36'}\n",
    "    for retry in range(max_attempts):\n",
    "        try:\n",
    "            response = requests.get(url, headers=headers)\n",
    "            if response.status_code == 200:\n",
    "                return response\n",
    "        except Exception as e:\n",
    "                print(f\"An error occurred while accessing URL: {url}: {e}. Retrying... (Attempt {retry + 1}/{max_attempts})\")\n",
    "                time.sleep(1)\n",
    "\n",
    "# Função captura de todos os nomes de marcas e criação de URLs\n",
    "def getNomeMarcas():\n",
    "    response = access_site(\"https://www.drogariasminasmais.com.br/medicamentos\")\n",
    "    soup = BeautifulSoup(response.text, 'html.parser')\n",
    "    sessaoMarcasGrandes = soup.find('div', class_='vtex-search-result-3-x-filter__container vtex-search-result-3-x-filter__container--responsive-result-content-mz0001 bb b--muted-4 vtex-search-result-3-x-filter__container--brand')\n",
    "    sessaoMarcas = sessaoMarcasGrandes.find('div', class_='vtex-search-result-3-x-filterTemplateOverflow vtex-search-result-3-x-filterTemplateOverflow--responsive-result-content-mz0001 pb5 overflow-y-auto')\n",
    "    marcas = sessaoMarcas.find_all('label', class_='vtex-checkbox__label w-100 c-on-base pointer')\n",
    "    return marcas\n",
    "\n",
    "# Criando uma lista de URLs ainda não bem estruturadas\n",
    "urlSuja = getNomeMarcas()\n",
    "urlLimpa = []\n",
    "\n",
    "# Limpando lista das URLs\n",
    "for i in urlSuja:\n",
    "    # Criando texto separado e minusculo com \"-\"\n",
    "    texto = i.text.lower()\n",
    "    textoNovo = texto.replace(\" \", \"-\")\n",
    "    textoNovissimo = textoNovo.replace(\"/\", \"-\")\n",
    "\n",
    "    # Salvando tudo em uma lista\n",
    "    urlLimpa.append(textoNovissimo)\n",
    "\n",
    "listaUrls = []\n",
    "\n",
    "# Criando todas as URLs\n",
    "for j in urlLimpa:\n",
    "    URL = \"https://www.drogariasminasmais.com.br/medicamentos/\" + j + \"?initialMap=c&initialQuery=medicamentos&map=category-1,brand&page=\"\n",
    "    listaUrls.append(URL)"
   ]
  },
  {
   "cell_type": "code",
   "execution_count": 40,
   "metadata": {},
   "outputs": [],
   "source": [
    "# Achando número de produtos\n",
    "url = \"https://www.drogariasminasmais.com.br/medicamentos/hypera?initialMap=c&initialQuery=medicamentos&map=category-1,brand&page=1\"\n",
    "requisicao = requests.get(url)\n",
    "soup = BeautifulSoup(requisicao.text, 'html.parser')\n",
    "numeroProdutos = soup.find_all('script')[-34].text\n",
    "numeroProdutos = numeroProdutos[:-8].split(\"quantity\")[66:]\n",
    "\n",
    "listaNumeroProdutos = []\n",
    "listaNumeroProdutosCorreta = []\n",
    "\n",
    "for i in numeroProdutos:\n",
    "    listaNumeroProdutos.append(i.split(\",\")[0])\n",
    "\n",
    "for i in listaNumeroProdutos:\n",
    "    aux = i.replace('\"', \"\")\n",
    "    aux = aux.replace(\":\", \"\")\n",
    "    listaNumeroProdutosCorreta.append(int(aux))"
   ]
  },
  {
   "cell_type": "code",
   "execution_count": 100,
   "metadata": {},
   "outputs": [],
   "source": [
    "# Função getAllData\n",
    "def getAllData(): \n",
    "    def getJSON(soup):\n",
    "        jsonSujo = soup.find_all('script')[-34].text\n",
    "        jsonSujo = jsonSujo[:-8]\n",
    "        jsonLimpo = jsonSujo.split(\"__STATE__ = \")[1]\n",
    "        return jsonLimpo\n",
    "\n",
    "    total_pages = []\n",
    "\n",
    "    for i in listaNumeroProdutosCorreta:\n",
    "        if i <= 15:\n",
    "            total_pages.append(2)\n",
    "        else:\n",
    "            total_pages.append(math.ceil(i/15) + 1)\n",
    "\n",
    "    listaJSON = []\n",
    "    k = 0\n",
    "\n",
    "    for i in listaUrls:\n",
    "        for page_number in total_pages[k:]:\n",
    "            for paginaAtual in range(1, page_number):\n",
    "                url = str(i) + str(paginaAtual)\n",
    "                requisicao = requests.get(url)\n",
    "                soup = BeautifulSoup(requisicao.text, 'html.parser')\n",
    "                listaJSON.append(getJSON(soup))\n",
    "            print(k)\n",
    "            print(page_number)\n",
    "            print(i)\n",
    "            print(len(listaJSON))\n",
    "            print(\"---------------------------------------\")\n",
    "            k = k + 1\n",
    "            break\n",
    "    \n",
    "    return listaJSON"
   ]
  },
  {
   "cell_type": "code",
   "execution_count": 102,
   "metadata": {},
   "outputs": [
    {
     "name": "stdout",
     "output_type": "stream",
     "text": [
      "0\n",
      "26\n",
      "https://www.drogariasminasmais.com.br/medicamentos/hypera?initialMap=c&initialQuery=medicamentos&map=category-1,brand&page=\n",
      "25\n",
      "---------------------------------------\n",
      "1\n",
      "21\n",
      "https://www.drogariasminasmais.com.br/medicamentos/ache-rx?initialMap=c&initialQuery=medicamentos&map=category-1,brand&page=\n",
      "45\n",
      "---------------------------------------\n",
      "2\n",
      "17\n",
      "https://www.drogariasminasmais.com.br/medicamentos/eurofarma-rx?initialMap=c&initialQuery=medicamentos&map=category-1,brand&page=\n",
      "61\n",
      "---------------------------------------\n"
     ]
    },
    {
     "ename": "IndexError",
     "evalue": "list index out of range",
     "output_type": "error",
     "traceback": [
      "\u001b[0;31m---------------------------------------------------------------------------\u001b[0m",
      "\u001b[0;31mIndexError\u001b[0m                                Traceback (most recent call last)",
      "Cell \u001b[0;32mIn[102], line 5\u001b[0m\n\u001b[1;32m      2\u001b[0m all_workers \u001b[38;5;241m=\u001b[39m os\u001b[38;5;241m.\u001b[39mcpu_count()\n\u001b[1;32m      4\u001b[0m \u001b[38;5;28;01mwith\u001b[39;00m ThreadPoolExecutor(max_workers\u001b[38;5;241m=\u001b[39mall_workers) \u001b[38;5;28;01mas\u001b[39;00m executor:\n\u001b[0;32m----> 5\u001b[0m     future \u001b[38;5;241m=\u001b[39m executor\u001b[38;5;241m.\u001b[39msubmit(\u001b[43mgetAllData\u001b[49m\u001b[43m(\u001b[49m\u001b[43m)\u001b[49m)\n\u001b[1;32m      6\u001b[0m     listaJSON \u001b[38;5;241m=\u001b[39m future\u001b[38;5;241m.\u001b[39mresult()\n",
      "Cell \u001b[0;32mIn[100], line 26\u001b[0m, in \u001b[0;36mgetAllData\u001b[0;34m()\u001b[0m\n\u001b[1;32m     24\u001b[0m     requisicao \u001b[38;5;241m=\u001b[39m requests\u001b[38;5;241m.\u001b[39mget(url)\n\u001b[1;32m     25\u001b[0m     soup \u001b[38;5;241m=\u001b[39m BeautifulSoup(requisicao\u001b[38;5;241m.\u001b[39mtext, \u001b[38;5;124m'\u001b[39m\u001b[38;5;124mhtml.parser\u001b[39m\u001b[38;5;124m'\u001b[39m)\n\u001b[0;32m---> 26\u001b[0m     listaJSON\u001b[38;5;241m.\u001b[39mappend(\u001b[43mgetJSON\u001b[49m\u001b[43m(\u001b[49m\u001b[43msoup\u001b[49m\u001b[43m)\u001b[49m)\n\u001b[1;32m     27\u001b[0m \u001b[38;5;28mprint\u001b[39m(k)\n\u001b[1;32m     28\u001b[0m \u001b[38;5;28mprint\u001b[39m(page_number)\n",
      "Cell \u001b[0;32mIn[100], line 4\u001b[0m, in \u001b[0;36mgetAllData.<locals>.getJSON\u001b[0;34m(soup)\u001b[0m\n\u001b[1;32m      3\u001b[0m \u001b[38;5;28;01mdef\u001b[39;00m \u001b[38;5;21mgetJSON\u001b[39m(soup):\n\u001b[0;32m----> 4\u001b[0m     jsonSujo \u001b[38;5;241m=\u001b[39m \u001b[43msoup\u001b[49m\u001b[38;5;241;43m.\u001b[39;49m\u001b[43mfind_all\u001b[49m\u001b[43m(\u001b[49m\u001b[38;5;124;43m'\u001b[39;49m\u001b[38;5;124;43mscript\u001b[39;49m\u001b[38;5;124;43m'\u001b[39;49m\u001b[43m)\u001b[49m\u001b[43m[\u001b[49m\u001b[38;5;241;43m-\u001b[39;49m\u001b[38;5;241;43m34\u001b[39;49m\u001b[43m]\u001b[49m\u001b[38;5;241m.\u001b[39mtext\n\u001b[1;32m      5\u001b[0m     jsonSujo \u001b[38;5;241m=\u001b[39m jsonSujo[:\u001b[38;5;241m-\u001b[39m\u001b[38;5;241m8\u001b[39m]\n\u001b[1;32m      6\u001b[0m     jsonLimpo \u001b[38;5;241m=\u001b[39m jsonSujo\u001b[38;5;241m.\u001b[39msplit(\u001b[38;5;124m\"\u001b[39m\u001b[38;5;124m__STATE__ = \u001b[39m\u001b[38;5;124m\"\u001b[39m)[\u001b[38;5;241m1\u001b[39m]\n",
      "\u001b[0;31mIndexError\u001b[0m: list index out of range"
     ]
    }
   ],
   "source": [
    "# Função de execução rápida\n",
    "all_workers = os.cpu_count()\n",
    "\n",
    "with ThreadPoolExecutor(max_workers=all_workers) as executor:\n",
    "    future = executor.submit(getAllData())\n",
    "    listaJSON = future.result()"
   ]
  },
  {
   "cell_type": "code",
   "execution_count": 12,
   "metadata": {},
   "outputs": [],
   "source": [
    "# Teste de getDados\n",
    "def getDados(soup):\n",
    "    jsonSujo = soup.find_all('script')[-34].text\n",
    "    jsonSujo = jsonSujo[:-8]\n",
    "    jsonLimpo = jsonSujo.split(\"__STATE__ = \")[1]\n",
    "    return jsonLimpo\n",
    "\n",
    "total_pages = [25]\n",
    "listaJSON = []\n",
    "\n",
    "for page_number in total_pages:\n",
    "    for paginaAtual in range(1, page_number + 1):\n",
    "        url = \"https://www.drogariasminasmais.com.br/medicamentos/hypera?initialMap=c&initialQuery=medicamentos&map=category-1,brand&page=\" + str(paginaAtual)\n",
    "        requisicao = requests.get(url)\n",
    "        soup = BeautifulSoup(requisicao.text, 'html.parser')\n",
    "        listaJSON.append(getDados(soup))"
   ]
  },
  {
   "cell_type": "code",
   "execution_count": 36,
   "metadata": {},
   "outputs": [],
   "source": [
    "# Criando o JSON e capturando todos os códigos de produtos\n",
    "ean = []\n",
    "precoComDesconto = []\n",
    "precoSemDesconto = []\n",
    "desconto = []\n",
    "marcas = []\n",
    "nomes = []\n",
    "\n",
    "for i in range(0, len(listaJSON)):\n",
    "    dados = json.loads(listaJSON[i])\n",
    "    listaProdutosCerta = []\n",
    "    listaProdutos = []\n",
    "    j = 0 \n",
    "\n",
    "    for i in dados.keys():\n",
    "        if i.split(\"$ROOT_QUERY\")[0] == \"\":\n",
    "            break\n",
    "        if j % 18 == 0:\n",
    "            listaProdutos.append(i)\n",
    "        j = j + 1\n",
    "\n",
    "    for i in listaProdutos:\n",
    "        listaProdutosCerta.append(i.split(\".\")[0].replace(\"$\", \"\"))\n",
    "\n",
    "    # Pegando todos os dados dos produtos\n",
    "    for i in listaProdutosCerta:\n",
    "        nomes.append(dados[i][\"productName\"])\n",
    "        marcas.append(dados[i][\"brand\"])\n",
    "\n",
    "    for i in listaProdutosCerta:\n",
    "        # Parte do JSON que tem o EAN e precos\n",
    "        localJson1 = str(i) + '.items({\"filter\":\"ALL\"}).0'\n",
    "        dadosDesejados1 = dados.get(localJson1)\n",
    "\n",
    "        ean.append(dadosDesejados1[\"ean\"])\n",
    "\n",
    "    for i in listaProdutosCerta:\n",
    "        # Parte do JSON que tem o EAN e precos\n",
    "        localJson2 = \"$\" + str(i) + '.items({\"filter\":\"ALL\"}).0.sellers.0.commertialOffer'\n",
    "        dadosDesejados2 = dados.get(localJson2)\n",
    "\n",
    "        precoComDesconto.append(dadosDesejados2[\"Price\"])\n",
    "        precoSemDesconto.append(dadosDesejados2[\"ListPrice\"])\n",
    "        desconto.append((1 - (dadosDesejados2[\"Price\"]/dadosDesejados2[\"ListPrice\"])))"
   ]
  },
  {
   "cell_type": "code",
   "execution_count": 32,
   "metadata": {},
   "outputs": [],
   "source": [
    "# Criando dataFrame\n",
    "data = {\"nome\": nomes, \"marcas\": marcas, \"EAN\": ean, \"Preço com desconto\": precoComDesconto, \"Preço sem desconto\": precoSemDesconto, \"Desconto\": desconto}\n",
    "df = pd.DataFrame(data)"
   ]
  },
  {
   "cell_type": "code",
   "execution_count": 33,
   "metadata": {},
   "outputs": [],
   "source": [
    "# Exportando tudo para um csv\n",
    "df.to_excel('DadosMinasMais.xlsx',sheet_name='Sheet1')"
   ]
  }
 ],
 "metadata": {
  "kernelspec": {
   "display_name": "Python 3",
   "language": "python",
   "name": "python3"
  },
  "language_info": {
   "codemirror_mode": {
    "name": "ipython",
    "version": 3
   },
   "file_extension": ".py",
   "mimetype": "text/x-python",
   "name": "python",
   "nbconvert_exporter": "python",
   "pygments_lexer": "ipython3",
   "version": "3.10.12"
  }
 },
 "nbformat": 4,
 "nbformat_minor": 2
}
