{
 "cells": [
  {
   "cell_type": "markdown",
   "metadata": {},
   "source": [
    "# Extração da Drogaria Minas Mais"
   ]
  },
  {
   "cell_type": "code",
   "execution_count": 14,
   "metadata": {},
   "outputs": [],
   "source": [
    "from concurrent.futures import ThreadPoolExecutor\n",
    "import requests\n",
    "from bs4 import BeautifulSoup\n",
    "import os\n",
    "import time"
   ]
  },
  {
   "cell_type": "code",
   "execution_count": 15,
   "metadata": {},
   "outputs": [],
   "source": [
    "all_workers = os.cpu_count()\n",
    "\n",
    "def access_site(url, max_attempts=all_workers):\n",
    "    headers = {'Accept': '*/*', 'User-Agent': 'Mozilla/5.0 (Macintosh; Intel Mac OS X 10_11_5) AppleWebKit/537.36 (KHTML, like Gecko) Chrome/50.0.2661.102 Safari/537.36'}\n",
    "    for retry in range(max_attempts):\n",
    "        try:\n",
    "            response = requests.get(url, headers=headers)\n",
    "            if response.status_code == 200:\n",
    "                return response\n",
    "        except Exception as e:\n",
    "                print(f\"An error occurred while accessing URL: {url}: {e}. Retrying... (Attempt {retry + 1}/{max_attempts})\")\n",
    "                time.sleep(1)"
   ]
  },
  {
   "cell_type": "code",
   "execution_count": 16,
   "metadata": {},
   "outputs": [],
   "source": [
    "# Pegando todos os link das marcas dos medicamentos\n",
    "def getNomeMarcas():\n",
    "    response = access_site(\"https://www.drogariasminasmais.com.br/medicamentos\")\n",
    "    soup = BeautifulSoup(response.text, 'vtex-search-result-3-x-filterTemplateOverflow vtex-search-result-3-x-filterTemplateOverflow--responsive-result-content-mz0001 pb5 overflow-y-auto')\n",
    "    sessaoMarcas = soup.find('div', class_='vtex-search-result-3-x-filterItem vtex-search-result-3-x-filterItem--responsive-result-content-mz0001 vtex-search-result-3-x-filterItem--hypera vtex-search-result-3-x-filterItem--responsive-result-content-mz0001--hypera lh-copy w-100 vtex-search-result-3-x-filterItem vtex-search-result-3-x-filterItem--responsive-result-content-mz0001--selected')\n",
    "    marcas = sessaoMarcas.find('label', class_='vtex-checkbox__label w-100 c-on-base pointer').text\n",
    "    return \"https://www.drogariasminasmais.com.br/medicamentos/\" + marcas + \"?initialMap=c&initialQuery=medicamentos&map=category-1,brand\""
   ]
  },
  {
   "cell_type": "code",
   "execution_count": null,
   "metadata": {},
   "outputs": [],
   "source": [
    "# Encontrando o JSON de cada página\n",
    "# fazendo a requisição com o site \n",
    "requisicao = requests.get('https://www.drogariavenancio.com.br/medicamentos')\n",
    "\n",
    "# transformando em objeto soup\n",
    "soup = BeautifulSoup(requisicao.text, 'html.parser')\n",
    "\n",
    "# encontrando o arquivo json\n",
    "json_file = json.loads(soup.find('template', {'data-varname': '__STATE__'}).find('script').text)"
   ]
  }
 ],
 "metadata": {
  "kernelspec": {
   "display_name": "Python 3",
   "language": "python",
   "name": "python3"
  },
  "language_info": {
   "codemirror_mode": {
    "name": "ipython",
    "version": 3
   },
   "file_extension": ".py",
   "mimetype": "text/x-python",
   "name": "python",
   "nbconvert_exporter": "python",
   "pygments_lexer": "ipython3",
   "version": "3.10.12"
  }
 },
 "nbformat": 4,
 "nbformat_minor": 2
}
